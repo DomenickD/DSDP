{
 "cells": [
  {
   "cell_type": "markdown",
   "id": "fde5606f",
   "metadata": {},
   "source": [
    "# Week 2: Python Fundamentals (Beginner)\n",
    "\n",
    "## 📚 Overview\n",
    "This week, we'll build your foundation in Python programming by learning about:\n",
    "- Variables and data types\n",
    "- Core data structures (lists, dictionaries, tuples)\n",
    "- Control flow with `if`, `for`, and `while`\n",
    "\n",
    "By the end of this notebook, you'll be able to write basic scripts, manipulate data, and understand how logic flows in a Python program.\n"
   ]
  },
  {
   "cell_type": "markdown",
   "id": "e45a2c92",
   "metadata": {},
   "source": [
    "## 🎯 Objectives\n",
    "1. Understand variables, data types, and operators\n",
    "2. Work with lists, dictionaries, and tuples\n",
    "3. Control flow with `if`, `for`, and `while`\n",
    "4. Practice solving beginner exercises"
   ]
  },
  {
   "cell_type": "markdown",
   "id": "79b95454",
   "metadata": {},
   "source": [
    "## 1. Variables, Data Types, and Operators"
   ]
  },
  {
   "cell_type": "code",
   "execution_count": 1,
   "id": "d4e2e623",
   "metadata": {},
   "outputs": [],
   "source": [
    "# Variables and Types\n",
    "x = 10              # Integer\n",
    "y = 3.14            # Float\n",
    "name = \"Alice\"      # String\n",
    "is_student = True   # Boolean"
   ]
  },
  {
   "cell_type": "code",
   "execution_count": 2,
   "id": "efe7de24",
   "metadata": {},
   "outputs": [
    {
     "name": "stdout",
     "output_type": "stream",
     "text": [
      "<class 'int'> <class 'float'> <class 'str'> <class 'bool'>\n"
     ]
    }
   ],
   "source": [
    "# Type Checking\n",
    "print(type(x), type(y), type(name), type(is_student))"
   ]
  },
  {
   "cell_type": "code",
   "execution_count": 3,
   "id": "248dbfde",
   "metadata": {},
   "outputs": [
    {
     "name": "stdout",
     "output_type": "stream",
     "text": [
      "8\n",
      "6\n",
      "42\n",
      "4.0\n",
      "1\n",
      "8\n"
     ]
    }
   ],
   "source": [
    "# THE MATH\n",
    "# Arithmetic Operators\n",
    "print(5 + 3)\n",
    "print(10 - 4)\n",
    "print(6 * 7)\n",
    "print(20 / 5)\n",
    "print(10 % 3)\n",
    "print(2 ** 3)  # Exponentiation"
   ]
  },
  {
   "cell_type": "markdown",
   "id": "b07e0763",
   "metadata": {},
   "source": [
    "## 2. Lists, Tuples, and Dictionaries"
   ]
  },
  {
   "cell_type": "code",
   "execution_count": 4,
   "id": "2d387625",
   "metadata": {},
   "outputs": [
    {
     "name": "stdout",
     "output_type": "stream",
     "text": [
      "apple\n",
      "['apple', 'banana', 'cherry', 'orange']\n"
     ]
    }
   ],
   "source": [
    "# Lists\n",
    "fruits = [\"apple\", \"banana\", \"cherry\"]\n",
    "print(fruits[0])  # Access first element\n",
    "fruits.append(\"orange\")\n",
    "print(fruits)"
   ]
  },
  {
   "cell_type": "code",
   "execution_count": 5,
   "id": "ac11de4d",
   "metadata": {},
   "outputs": [
    {
     "name": "stdout",
     "output_type": "stream",
     "text": [
      "20.5\n"
     ]
    }
   ],
   "source": [
    "# Tuples (Immutable)\n",
    "coords = (10.0, 20.5)\n",
    "print(coords[1])"
   ]
  },
  {
   "cell_type": "code",
   "execution_count": 6,
   "id": "94f35faf",
   "metadata": {},
   "outputs": [
    {
     "name": "stdout",
     "output_type": "stream",
     "text": [
      "Alice\n",
      "{'name': 'Alice', 'age': 26, 'is_student': True}\n"
     ]
    }
   ],
   "source": [
    "# Dictionaries\n",
    "person = {\n",
    "    \"name\": \"Alice\",\n",
    "    \"age\": 25,\n",
    "    \"is_student\": True\n",
    "}\n",
    "print(person[\"name\"])\n",
    "person[\"age\"] = 26  # Update value\n",
    "print(person)"
   ]
  },
  {
   "cell_type": "markdown",
   "id": "1de571e2",
   "metadata": {},
   "source": [
    "## 3. Control Flow: if, for, while"
   ]
  },
  {
   "cell_type": "code",
   "execution_count": 7,
   "id": "bba52ad9",
   "metadata": {},
   "outputs": [
    {
     "name": "stdout",
     "output_type": "stream",
     "text": [
      "You can vote!\n"
     ]
    }
   ],
   "source": [
    "# `if` Statements\n",
    "age = 18\n",
    "if age >= 18:\n",
    "    print(\"You can vote!\")\n",
    "else:\n",
    "    print(\"Too young to vote.\")"
   ]
  },
  {
   "cell_type": "code",
   "execution_count": 8,
   "id": "711624bd",
   "metadata": {},
   "outputs": [
    {
     "name": "stdout",
     "output_type": "stream",
     "text": [
      "apple\n",
      "banana\n",
      "cherry\n",
      "orange\n"
     ]
    }
   ],
   "source": [
    "# `for` Loops\n",
    "for fruit in fruits:\n",
    "    print(fruit)"
   ]
  },
  {
   "cell_type": "code",
   "execution_count": 9,
   "id": "bc62a52e",
   "metadata": {},
   "outputs": [
    {
     "name": "stdout",
     "output_type": "stream",
     "text": [
      "Count is: 0\n",
      "Count is: 1\n",
      "Count is: 2\n"
     ]
    }
   ],
   "source": [
    "# `while` Loops\n",
    "count = 0\n",
    "while count < 3:\n",
    "    print(\"Count is:\", count)\n",
    "    count += 1"
   ]
  },
  {
   "cell_type": "markdown",
   "id": "fb6ba8d8",
   "metadata": {},
   "source": [
    "## 4. Practice Exercises"
   ]
  },
  {
   "cell_type": "code",
   "execution_count": 10,
   "id": "8c3f12a6",
   "metadata": {},
   "outputs": [
    {
     "name": "stdout",
     "output_type": "stream",
     "text": [
      "Mean: 4.8\n",
      "Median: 5\n"
     ]
    }
   ],
   "source": [
    "# 1: Calculate Mean and Median\n",
    "numbers = [5, 2, 9, 1, 7]\n",
    "\n",
    "# Mean\n",
    "mean = sum(numbers) / len(numbers)\n",
    "print(\"Mean:\", mean)\n",
    "\n",
    "# Median\n",
    "numbers.sort()\n",
    "n = len(numbers)\n",
    "if n % 2 == 1:\n",
    "    median = numbers[n // 2]\n",
    "else:\n",
    "    median = (numbers[n // 2 - 1] + numbers[n // 2]) / 2\n",
    "print(\"Median:\", median)\n"
   ]
  },
  {
   "cell_type": "code",
   "execution_count": 11,
   "id": "79aa4b79",
   "metadata": {},
   "outputs": [
    {
     "name": "stdout",
     "output_type": "stream",
     "text": [
      "Alice scored 90\n",
      "Bob scored 95\n",
      "Charlie scored 83\n"
     ]
    }
   ],
   "source": [
    "# 2: Parse and Manipulate Lists/Dicts\n",
    "students = [\n",
    "    {\"name\": \"Alice\", \"score\": 85},\n",
    "    {\"name\": \"Bob\", \"score\": 90},\n",
    "    {\"name\": \"Charlie\", \"score\": 78}\n",
    "]\n",
    "\n",
    "# Increase each score by 5\n",
    "for student in students:\n",
    "    student[\"score\"] += 5\n",
    "\n",
    "# Print updated records\n",
    "for student in students:\n",
    "    print(f\"{student['name']} scored {student['score']}\")"
   ]
  }
 ],
 "metadata": {
  "kernelspec": {
   "display_name": "Python 3",
   "language": "python",
   "name": "python3"
  },
  "language_info": {
   "codemirror_mode": {
    "name": "ipython",
    "version": 3
   },
   "file_extension": ".py",
   "mimetype": "text/x-python",
   "name": "python",
   "nbconvert_exporter": "python",
   "pygments_lexer": "ipython3",
   "version": "3.11.9"
  }
 },
 "nbformat": 4,
 "nbformat_minor": 5
}
